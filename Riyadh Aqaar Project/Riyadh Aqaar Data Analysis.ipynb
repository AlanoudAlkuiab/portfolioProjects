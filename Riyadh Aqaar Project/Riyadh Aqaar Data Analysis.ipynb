{
 "cells": [
  {
   "cell_type": "markdown",
   "id": "f360d4a6",
   "metadata": {},
   "source": [
    "# Aqaar Dataset "
   ]
  },
  {
   "cell_type": "markdown",
   "id": "80576391",
   "metadata": {},
   "source": [
    "in this project i will try to clean the riyadh aqaar dataset that was published in kggle . and create a power bi dashboard to share my findings ."
   ]
  },
  {
   "cell_type": "markdown",
   "id": "126a4507",
   "metadata": {},
   "source": [
    "## dataset link \n",
    "\n",
    "https://www.kaggle.com/datasets/myfaisal/riyadh-aqaar-dataset"
   ]
  },
  {
   "cell_type": "code",
   "execution_count": 133,
   "id": "d415e969",
   "metadata": {},
   "outputs": [],
   "source": [
    "#improt libraries\n",
    "import pandas as pd \n",
    "import numpy as np \n",
    "import seaborn as sns \n",
    "import matplotlib.pyplot as plt \n"
   ]
  },
  {
   "cell_type": "code",
   "execution_count": 134,
   "id": "f90fac5f",
   "metadata": {},
   "outputs": [],
   "source": [
    "#read csv file\n",
    "df=pd.read_csv(r\"C:\\Users\\Lenovo\\Downloads\\Riyadh_RealEstate.csv\")"
   ]
  },
  {
   "cell_type": "code",
   "execution_count": 135,
   "id": "4f4514a2",
   "metadata": {},
   "outputs": [
    {
     "data": {
      "text/plain": [
       "(2986, 22)"
      ]
     },
     "execution_count": 135,
     "metadata": {},
     "output_type": "execute_result"
    }
   ],
   "source": [
    "#shape of dataframe\n",
    "df.shape"
   ]
  },
  {
   "cell_type": "code",
   "execution_count": 136,
   "id": "f25ddad3",
   "metadata": {},
   "outputs": [
    {
     "data": {
      "text/html": [
       "<div>\n",
       "<style scoped>\n",
       "    .dataframe tbody tr th:only-of-type {\n",
       "        vertical-align: middle;\n",
       "    }\n",
       "\n",
       "    .dataframe tbody tr th {\n",
       "        vertical-align: top;\n",
       "    }\n",
       "\n",
       "    .dataframe thead th {\n",
       "        text-align: right;\n",
       "    }\n",
       "</style>\n",
       "<table border=\"1\" class=\"dataframe\">\n",
       "  <thead>\n",
       "    <tr style=\"text-align: right;\">\n",
       "      <th></th>\n",
       "      <th>السعر الاجمالي</th>\n",
       "    </tr>\n",
       "  </thead>\n",
       "  <tbody>\n",
       "    <tr>\n",
       "      <th>count</th>\n",
       "      <td>2.986000e+03</td>\n",
       "    </tr>\n",
       "    <tr>\n",
       "      <th>mean</th>\n",
       "      <td>4.251729e+06</td>\n",
       "    </tr>\n",
       "    <tr>\n",
       "      <th>std</th>\n",
       "      <td>2.660377e+07</td>\n",
       "    </tr>\n",
       "    <tr>\n",
       "      <th>min</th>\n",
       "      <td>1.400000e+03</td>\n",
       "    </tr>\n",
       "    <tr>\n",
       "      <th>25%</th>\n",
       "      <td>1.002512e+06</td>\n",
       "    </tr>\n",
       "    <tr>\n",
       "      <th>50%</th>\n",
       "      <td>1.800000e+06</td>\n",
       "    </tr>\n",
       "    <tr>\n",
       "      <th>75%</th>\n",
       "      <td>3.000000e+06</td>\n",
       "    </tr>\n",
       "    <tr>\n",
       "      <th>max</th>\n",
       "      <td>8.930250e+08</td>\n",
       "    </tr>\n",
       "  </tbody>\n",
       "</table>\n",
       "</div>"
      ],
      "text/plain": [
       "       السعر الاجمالي\n",
       "count    2.986000e+03\n",
       "mean     4.251729e+06\n",
       "std      2.660377e+07\n",
       "min      1.400000e+03\n",
       "25%      1.002512e+06\n",
       "50%      1.800000e+06\n",
       "75%      3.000000e+06\n",
       "max      8.930250e+08"
      ]
     },
     "execution_count": 136,
     "metadata": {},
     "output_type": "execute_result"
    }
   ],
   "source": [
    "#display statistical summary\n",
    "df.describe()"
   ]
  },
  {
   "cell_type": "code",
   "execution_count": 137,
   "id": "ecc112a1",
   "metadata": {},
   "outputs": [
    {
     "name": "stdout",
     "output_type": "stream",
     "text": [
      "<class 'pandas.core.frame.DataFrame'>\n",
      "RangeIndex: 2986 entries, 0 to 2985\n",
      "Data columns (total 22 columns):\n",
      " #   Column          Non-Null Count  Dtype \n",
      "---  ------          --------------  ----- \n",
      " 0   نوع العقار      2986 non-null   object\n",
      " 1   الغرض           2986 non-null   object\n",
      " 2   المدينة         2986 non-null   object\n",
      " 3   الحي            2986 non-null   object\n",
      " 4   الواجهة         2986 non-null   object\n",
      " 5   المساحة         2986 non-null   object\n",
      " 6   سعر المتر       2986 non-null   object\n",
      " 7   عدد الغرف       2986 non-null   object\n",
      " 8   عدد الصالات     2986 non-null   object\n",
      " 9   عدد الحمامات    2986 non-null   object\n",
      " 10  عرض الشارع      2986 non-null   object\n",
      " 11  درج صالة        2986 non-null   object\n",
      " 12  مطبخ            2986 non-null   object\n",
      " 13  غرفة خادمة      2986 non-null   object\n",
      " 14  غرفة سائق       2986 non-null   object\n",
      " 15  ملحق            2986 non-null   object\n",
      " 16  حوش             2986 non-null   object\n",
      " 17  مسبح            2986 non-null   object\n",
      " 18  قبو             2986 non-null   object\n",
      " 19  مدخل سيارة      2986 non-null   object\n",
      " 20  مصعد            2986 non-null   object\n",
      " 21  السعر الاجمالي  2986 non-null   int64 \n",
      "dtypes: int64(1), object(21)\n",
      "memory usage: 513.3+ KB\n"
     ]
    }
   ],
   "source": [
    "#display data types of columns \n",
    "df.info()"
   ]
  },
  {
   "cell_type": "code",
   "execution_count": 138,
   "id": "b91b33fc",
   "metadata": {},
   "outputs": [
    {
     "name": "stdout",
     "output_type": "stream",
     "text": [
      "##############################\n",
      "Vale counts of column نوع العقار : \n",
      "أرض     1896\n",
      "فيلا    1090\n",
      "Name: نوع العقار, dtype: int64\n",
      "##############################\n",
      "Vale counts of column الغرض : \n",
      "سكني           2412\n",
      "تجاري وسكني     404\n",
      "تجاري           170\n",
      "Name: الغرض, dtype: int64\n",
      "##############################\n",
      "Vale counts of column المدينة : \n",
      " الرياض                  2218\n",
      " امارة منطقة الرياض       382\n",
      " حريملاء                  231\n",
      " الرياض                    60\n",
      " الدرعية                   40\n",
      "13843                       9\n",
      " حي عريض                    8\n",
      " حي قرطبة                   7\n",
      " رماح                       5\n",
      " حي العريجاء الغربية        3\n",
      " الجبيلة                    3\n",
      " حي الرمال                  3\n",
      "                            3\n",
      " حي المهدية                 2\n",
      " العيينة                    2\n",
      " ضرما                       2\n",
      " حي الازدهار                2\n",
      " حي السلي                   1\n",
      " حي النخيل                  1\n",
      " حي ظهرة لبن                1\n",
      " الخرج                      1\n",
      " حي العارض                  1\n",
      " حي القيروان                1\n",
      "Name: المدينة, dtype: int64\n",
      "##############################\n",
      "Vale counts of column الحي : \n",
      " الرياض            653\n",
      " حي النرجس         162\n",
      " حي المهدية        146\n",
      " حي الرمال         141\n",
      " حي ظهرة لبن       104\n",
      "                  ... \n",
      " حي العين            1\n",
      " حي الخالدية         1\n",
      " حي الملقا7541       1\n",
      " حي الوزارات         1\n",
      " حي المشاعل          1\n",
      "Name: الحي, Length: 162, dtype: int64\n",
      "##############################\n",
      "Vale counts of column الواجهة : \n",
      "شمالية          703\n",
      "جنوبية          691\n",
      "غربية           490\n",
      "شرقية           488\n",
      "شمالية شرقية    126\n",
      "جنوبية شرقية    119\n",
      "جنوبية غربية    118\n",
      "شمالية غربية    109\n",
      "ثلاث شوارع       84\n",
      "-                31\n",
      "أربع شوارع       27\n",
      "Name: الواجهة, dtype: int64\n",
      "##############################\n",
      "Vale counts of column المساحة : \n",
      "375     170\n",
      "900     163\n",
      "750     157\n",
      "450     138\n",
      "300     121\n",
      "       ... \n",
      "562       1\n",
      "1110      1\n",
      "7861      1\n",
      "445       1\n",
      "1608      1\n",
      "Name: المساحة, Length: 616, dtype: int64\n",
      "##############################\n",
      "Vale counts of column سعر المتر : \n",
      "-       1090\n",
      "4000      60\n",
      "3000      55\n",
      "1000      53\n",
      "2500      43\n",
      "        ... \n",
      "956        1\n",
      "2255       1\n",
      "5700       1\n",
      "1868       1\n",
      "809        1\n",
      "Name: سعر المتر, Length: 414, dtype: int64\n",
      "##############################\n",
      "Vale counts of column عدد الغرف : \n",
      "-     1993\n",
      "5      397\n",
      "7+     267\n",
      "4      163\n",
      "6      118\n",
      "3       33\n",
      "1       10\n",
      "2        5\n",
      "Name: عدد الغرف, dtype: int64\n",
      "##############################\n",
      "Vale counts of column عدد الصالات : \n",
      "-     2019\n",
      "2      433\n",
      "3      280\n",
      "1      126\n",
      "4       76\n",
      "5       48\n",
      "7+       4\n",
      "Name: عدد الصالات, dtype: int64\n",
      "##############################\n",
      "Vale counts of column عدد الحمامات : \n",
      "-     1993\n",
      "5+     796\n",
      "4      133\n",
      "3       51\n",
      "2        8\n",
      "1        5\n",
      "Name: عدد الحمامات, dtype: int64\n",
      "##############################\n",
      "Vale counts of column عرض الشارع : \n",
      "-     2521\n",
      "15     175\n",
      "20     162\n",
      "18      29\n",
      "25      26\n",
      "5       23\n",
      "12      15\n",
      "10       9\n",
      "30       7\n",
      "21       6\n",
      "16       4\n",
      "17       2\n",
      "40       2\n",
      "14       2\n",
      "26       1\n",
      "8        1\n",
      "19       1\n",
      "Name: عرض الشارع, dtype: int64\n",
      "##############################\n",
      "Vale counts of column درج صالة : \n",
      "-    1896\n",
      "1     764\n",
      "0     326\n",
      "Name: درج صالة, dtype: int64\n",
      "##############################\n",
      "Vale counts of column مطبخ : \n",
      "-    1896\n",
      "1     868\n",
      "0     222\n",
      "Name: مطبخ, dtype: int64\n",
      "##############################\n",
      "Vale counts of column غرفة خادمة : \n",
      "-    1896\n",
      "1     760\n",
      "0     330\n",
      "Name: غرفة خادمة, dtype: int64\n",
      "##############################\n",
      "Vale counts of column غرفة سائق : \n",
      "-    1896\n",
      "0     697\n",
      "1     393\n",
      "Name: غرفة سائق, dtype: int64\n",
      "##############################\n",
      "Vale counts of column ملحق : \n",
      "-    1896\n",
      "1     594\n",
      "0     496\n",
      "Name: ملحق, dtype: int64\n",
      "##############################\n",
      "Vale counts of column حوش : \n",
      "-    1896\n",
      "1     780\n",
      "0     310\n",
      "Name: حوش, dtype: int64\n",
      "##############################\n",
      "Vale counts of column مسبح : \n",
      "-    1896\n",
      "0    1000\n",
      "1      90\n",
      "Name: مسبح, dtype: int64\n",
      "##############################\n",
      "Vale counts of column قبو : \n",
      "-    1896\n",
      "0    1052\n",
      "1      38\n",
      "Name: قبو, dtype: int64\n",
      "##############################\n",
      "Vale counts of column مدخل سيارة : \n",
      "-    1896\n",
      "1     852\n",
      "0     238\n",
      "Name: مدخل سيارة, dtype: int64\n",
      "##############################\n",
      "Vale counts of column مصعد : \n",
      "-    1896\n",
      "0     795\n",
      "1     295\n",
      "Name: مصعد, dtype: int64\n",
      "##############################\n",
      "Vale counts of column السعر الاجمالي : \n",
      "3000000     50\n",
      "2000000     46\n",
      "1500000     40\n",
      "2200000     38\n",
      "2500000     38\n",
      "            ..\n",
      "6210000      1\n",
      "6250000      1\n",
      "42962160     1\n",
      "3465000      1\n",
      "849450       1\n",
      "Name: السعر الاجمالي, Length: 1330, dtype: int64\n"
     ]
    }
   ],
   "source": [
    "#check value counts of columns\n",
    "for col in df.columns :\n",
    "    print(\"#\"*30)\n",
    "    print(f\"Vale counts of column {col} : \")\n",
    "    print(df[col].value_counts())\n",
    "    "
   ]
  },
  {
   "cell_type": "markdown",
   "id": "9428a770",
   "metadata": {},
   "source": [
    "## removing duplicated "
   ]
  },
  {
   "cell_type": "code",
   "execution_count": 139,
   "id": "78c7beff",
   "metadata": {},
   "outputs": [],
   "source": [
    "# Remove duplicate rows based on some features columns and keep the first duplicate row\n",
    "df = df.drop_duplicates(subset=['سعر المتر', 'المساحة','السعر الاجمالي','الغرض'], keep='first')"
   ]
  },
  {
   "cell_type": "markdown",
   "id": "5cc16eda",
   "metadata": {},
   "source": [
    "## change the data type"
   ]
  },
  {
   "cell_type": "code",
   "execution_count": 140,
   "id": "1f7fb40e",
   "metadata": {},
   "outputs": [],
   "source": [
    "#replace the postiton of \"المدينة\" values if it contains \"حي\" to the column \"الحي\"\n",
    "df['الحي'] = np.where(df['المدينة'].str.contains(\"حي\"), df['المدينة'], df['الحي'])\n"
   ]
  },
  {
   "cell_type": "code",
   "execution_count": 141,
   "id": "1e6a7a9f",
   "metadata": {},
   "outputs": [],
   "source": [
    "#remove spaces\n",
    "df['الحي']=df['الحي'].apply(lambda x:x.strip())\n",
    "df['المدينة']=df['المدينة'].apply(lambda x:x.strip())"
   ]
  },
  {
   "cell_type": "code",
   "execution_count": 142,
   "id": "fc5a4a53",
   "metadata": {},
   "outputs": [],
   "source": [
    "#change the value of 'امارة منطقة الرياض' to 'الرياض'\n",
    "df.loc[df['المدينة'].str.contains(\"امارة منطقة الرياض\"),'المدينة']=\"الرياض\"\n",
    "\n",
    "df['الحي'] = df['الحي'].replace(['الرياض','امارة منطقة الرياض'], 'Not Provided')\n",
    "#repace int values in 'المدينة' to 'الرياض'\n",
    "df['المدينة']=df['المدينة'].replace('13843','الرياض')"
   ]
  },
  {
   "cell_type": "code",
   "execution_count": 143,
   "id": "6dc1a2b2",
   "metadata": {},
   "outputs": [
    {
     "data": {
      "text/plain": [
       "array(['', 'Not Provided', 'العيينة', 'القرينة', 'القرينه', 'المغرفية',\n",
       "       'حي أم الحمام الغربي', 'حي احد', 'حي اشبيلية', 'حي الازدهار',\n",
       "       'حي الاسكان', 'حي الاندلس', 'حي البديعة', 'حي البرية', 'حي البيان',\n",
       "       'حي التعاون', 'حي الجزيرة', 'حي الجنادرية', 'حي الحائر',\n",
       "       'حي الحزم', 'حي الحمراء', 'حي الخالدية', 'حي الخليج', 'حي الخير',\n",
       "       'حي الدار البيضاء', 'حي الدفاع', 'حي الربوة', 'حي الربيع',\n",
       "       'حي الرحمانية', 'حي الرفيعة', 'حي الرمال', 'حي الروابي',\n",
       "       'حي الروضة', 'حي الريان', 'حي الزاهر', 'حي الزهراء', 'حي الزهرة',\n",
       "       'حي السعادة', 'حي السلام', 'حي السلي', 'حي السليمانية',\n",
       "       'حي السويدي', 'حي السويدي الغربي', 'حي الشرق', 'حي الشعلة',\n",
       "       'حي الشفا', 'حي الشهداء', 'حي الصحافة', 'حي الصفا',\n",
       "       'حي الصناعية القديمة', 'حي الضباط', 'حي العارض',\n",
       "       'حي العريجاء الغربي', 'حي العريجاء الغربية', 'حي العريجاء الوسطى',\n",
       "       'حي العزيزية', 'حي العقيق', 'حي العلا', 'حي العليا', 'حي العوالي',\n",
       "       'حي العين', 'حي الغدير', 'حي الغنامية', 'حي الفاروق', 'حي الفلاح',\n",
       "       'حي الفيحاء', 'حي القادسية', 'حي القدس', 'حي القيروان',\n",
       "       'حي المحمدية', 'حي المربع', 'حي المرسلات', 'حي المروة',\n",
       "       'حي المروج', 'حي المشاعل', 'حي المشرق', 'حي المصانع', 'حي المصفاة',\n",
       "       'حي المصيف', 'حي المعيزلة', 'حي المعيزيلة', 'حي المغرزات',\n",
       "       'حي الملز', 'حي الملقا', 'حي الملقا7541', 'حي الملك عبد العزيز',\n",
       "       'حي الملك عبدالعزيز', 'حي الملك عبدالله', 'حي الملك فهد',\n",
       "       'حي الملك فيصل', 'حي المناخ', 'حي المنار', 'حي المنصورة',\n",
       "       'حي المنصورية', 'حي المهدية', 'حي المونسية', 'حي الناصرية',\n",
       "       'حي النخيل', 'حي الندوة', 'حي الندى', 'حي النرجس', 'حي النزهة',\n",
       "       'حي النسيم الشرقي', 'حي النسيم الغربي', 'حي النظيم', 'حي النفل',\n",
       "       'حي النهضة', 'حي الهدا', 'حي الوادي', 'حي الوزارات', 'حي الياسمين',\n",
       "       'حي اليرموك', 'حي اليمامة', 'حي ام سليم', 'حي بدر', 'حي بنبان',\n",
       "       'حي ثليم', 'حي جامعة الملك سعود', 'حي جرير', 'حي حطين',\n",
       "       'حي خشم العان', 'حي سلطانة', 'حي شبرا', 'حي صلاح الدين',\n",
       "       'حي ضاحية نمار', 'حي طويق', 'حي طيبة', 'حي ظهرة البديعة',\n",
       "       'حي ظهرة لبن', 'حي ظهرة نمار', 'حي عرقة', 'حي عريض', 'حي عقرباء',\n",
       "       'حي عكاظ', 'حي عليشة', 'حي غرناطة', 'حي قرطبة', 'حي لبن',\n",
       "       'حي مطار الملك خالد الدولي', 'حي منفوحة', 'حي منفوحة الجديدة',\n",
       "       'حي نمار', 'حي هجرة لبن', 'سدوس', 'ضاحية نمار', 'ضرما', 'ملهم'],\n",
       "      dtype=object)"
      ]
     },
     "execution_count": 143,
     "metadata": {},
     "output_type": "execute_result"
    }
   ],
   "source": [
    "#check the unqiue values of 'الحي' column\n",
    "neighorhood=df['الحي'].unique()\n",
    "neighorhood.sort()\n",
    "neighorhood"
   ]
  },
  {
   "cell_type": "code",
   "execution_count": 144,
   "id": "53c89ef6",
   "metadata": {},
   "outputs": [],
   "source": [
    "#correcting data \n",
    "def change(x):\n",
    "    if \"ضاحية نمار\" in x:\n",
    "        return \"حي ضاحية نمار\"\n",
    "    elif \"المعيزلة\" in x or 'المعيزيلة' in x:\n",
    "        return \"حي المعيزيلة\"\n",
    "    elif \"الملقا\" in x:\n",
    "        return \"حي الملقا\"\n",
    "    elif \"العريجاء الغربية\" in x or \"العريجاء الغربي\" in x :\n",
    "        return \"حي العريجاء الغربي\" \n",
    "    elif 'الملك عبد العزيز' in x :\n",
    "        return \"حي الملك عبدالعزيز\"\n",
    "    elif 'القرينة' in x or 'القرينه' in x :\n",
    "        return 'القرينة'\n",
    "    else :\n",
    "        return x"
   ]
  },
  {
   "cell_type": "code",
   "execution_count": 145,
   "id": "4986dcca",
   "metadata": {},
   "outputs": [],
   "source": [
    "#apply the function to 'الحي' to correct some data \n",
    "df['الحي']=df['الحي'].apply(change)"
   ]
  },
  {
   "cell_type": "code",
   "execution_count": 146,
   "id": "9101ebc1",
   "metadata": {},
   "outputs": [],
   "source": [
    "#change the vlaues of 'المدينة' to 'الرياض' if not in vill\n",
    "vill=['حريملاء','ضرما','ملهم','الخرج','رماح','الدرعية','الجبيلة','العيينة']\n",
    "\n",
    "df.loc[~df[\"المدينة\"].isin(vill), \"المدينة\"] = \"الرياض\"\n",
    "    "
   ]
  },
  {
   "cell_type": "code",
   "execution_count": 147,
   "id": "f3cba9d8",
   "metadata": {},
   "outputs": [
    {
     "name": "stderr",
     "output_type": "stream",
     "text": [
      "C:\\Users\\Lenovo\\AppData\\Local\\Temp\\ipykernel_2780\\3722085130.py:2: SettingWithCopyWarning: \n",
      "A value is trying to be set on a copy of a slice from a DataFrame\n",
      "\n",
      "See the caveats in the documentation: https://pandas.pydata.org/pandas-docs/stable/user_guide/indexing.html#returning-a-view-versus-a-copy\n",
      "  df['المدينة'][df['المدينة'] == 'الدرعية'] = df['الحي']\n"
     ]
    }
   ],
   "source": [
    "#replacing the value of 'المدينة' if it contains 'الدرعية ' to 'الحي' column\n",
    "df['المدينة'][df['المدينة'] == 'الدرعية'] = df['الحي']\n",
    "df.loc[df['المدينة']==df['الحي'],'الحي']='Not Provided'\n",
    "df=df.drop(2883)"
   ]
  },
  {
   "cell_type": "code",
   "execution_count": 148,
   "id": "20b70d9d",
   "metadata": {},
   "outputs": [],
   "source": [
    "#reset df after the preprocessing steps\n",
    "df.reset_index(drop=True, inplace=True)\n"
   ]
  },
  {
   "cell_type": "markdown",
   "id": "e80718ef",
   "metadata": {},
   "source": [
    "#### importing external python file  \n",
    "i have the names of riyadh neighborhoods saved in external file named Riyadh_Neighborhoods.py"
   ]
  },
  {
   "cell_type": "code",
   "execution_count": 149,
   "id": "e9f72d2a",
   "metadata": {},
   "outputs": [],
   "source": [
    "#import file\n",
    "import Riyadh_Neighborhoods as rn"
   ]
  },
  {
   "cell_type": "code",
   "execution_count": 150,
   "id": "3a055c6a",
   "metadata": {},
   "outputs": [],
   "source": [
    "#grouping values of 'الحي' to 'منطقة الحي' through the function category \n",
    "def categorty(x):\n",
    "            x=(x.partition('حي')[2]).strip()\n",
    "\n",
    "            if x in rn.north : \n",
    "                return \"الشمال\"\n",
    "            elif x in rn.east :\n",
    "                return \"الشرق\"\n",
    "            elif x in rn.west:\n",
    "                return \"الغرب\"\n",
    "            elif x in rn.south :\n",
    "                return \"الجنوب\"\n",
    "            elif x in rn.center :\n",
    "                return \"وسط الرياض\"\n",
    "            else :\n",
    "                return None\n"
   ]
  },
  {
   "cell_type": "code",
   "execution_count": 151,
   "id": "05e8bfa8",
   "metadata": {},
   "outputs": [],
   "source": [
    "#apply function to df['الحي']\n",
    "df['منطقة الحي']=df['الحي'].apply(categorty)"
   ]
  },
  {
   "cell_type": "markdown",
   "id": "060417dc",
   "metadata": {},
   "source": [
    "## split the df to : Houses and Lands "
   ]
  },
  {
   "cell_type": "code",
   "execution_count": 152,
   "id": "211b062b",
   "metadata": {},
   "outputs": [],
   "source": [
    "#keep only the rows that 'المدينة' column value is 'الرياض'\n",
    "df = df[df[\"المدينة\"]=='الرياض']"
   ]
  },
  {
   "cell_type": "code",
   "execution_count": 153,
   "id": "90527dce",
   "metadata": {},
   "outputs": [],
   "source": [
    "df_house=df[df['نوع العقار']=='فيلا']\n",
    "df_land=df[df['نوع العقار']=='أرض']"
   ]
  },
  {
   "cell_type": "code",
   "execution_count": 154,
   "id": "595030b3",
   "metadata": {},
   "outputs": [],
   "source": [
    "#remove unwanted columns \n",
    "df_house=df_house.drop('سعر المتر',axis=1)"
   ]
  },
  {
   "cell_type": "code",
   "execution_count": 155,
   "id": "eb34232e",
   "metadata": {},
   "outputs": [],
   "source": [
    "#replace the missing data with Not Provided\n",
    "df_house['عرض الشارع'].replace('-','Not Provided',inplace=True)"
   ]
  },
  {
   "cell_type": "code",
   "execution_count": 156,
   "id": "4fcb862a",
   "metadata": {},
   "outputs": [],
   "source": [
    "#remove unnecessary features from df_land \n",
    "df_land=df_land[['منطقة الحي','نوع العقار','الغرض','المدينة','الحي','الواجهة','المساحة','سعر المتر','السعر الاجمالي']]"
   ]
  },
  {
   "cell_type": "code",
   "execution_count": 157,
   "id": "eac9e4aa",
   "metadata": {},
   "outputs": [],
   "source": [
    "#export all 3 files\n",
    "df.to_csv(r\"C:\\Users\\Lenovo\\Documents\\AqaarDatasetCleaned.csv\")\n",
    "df_house.to_csv(r\"C:\\Users\\Lenovo\\Documents\\AqaarDataset_houses.csv\")\n",
    "df_land.to_csv(r\"C:\\Users\\Lenovo\\Documents\\AqaarDataset_land.csv\")"
   ]
  }
 ],
 "metadata": {
  "kernelspec": {
   "display_name": "Python 3 (ipykernel)",
   "language": "python",
   "name": "python3"
  },
  "language_info": {
   "codemirror_mode": {
    "name": "ipython",
    "version": 3
   },
   "file_extension": ".py",
   "mimetype": "text/x-python",
   "name": "python",
   "nbconvert_exporter": "python",
   "pygments_lexer": "ipython3",
   "version": "3.9.13"
  }
 },
 "nbformat": 4,
 "nbformat_minor": 5
}
